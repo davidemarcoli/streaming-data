{
 "cells": [
  {
   "cell_type": "code",
   "execution_count": 88,
   "metadata": {},
   "outputs": [
    {
     "name": "stdout",
     "output_type": "stream",
     "text": [
      "hulu-tv_data.csv\n",
      "disney-+_data.csv\n",
      "amazon-prime_data.csv\n",
      "rakuten-viki-tv_data.csv\n",
      "netflix_data.csv\n",
      "paramount-tv_data.csv\n",
      "dark-matter-tv_data.csv\n",
      "crunchyroll_data.csv\n",
      "hbo-max_data.csv\n",
      "Closest file: netflix_data.csv\n"
     ]
    }
   ],
   "source": [
    "import pandas as pd\n",
    "import os\n",
    "import seaborn as sns\n",
    "import numpy as np\n",
    "from sklearn.tree import DecisionTreeClassifier\n",
    "from sklearn.model_selection import train_test_split\n",
    "from sklearn.metrics import accuracy_score\n",
    "\n",
    "from ast import literal_eval\n",
    "\n",
    "TESTING = True\n",
    "\n",
    "if TESTING:\n",
    "    dataset_name = 'netflix'\n",
    "else:\n",
    "    dataset_name = input(\"Enter dataset name: \")\n",
    "\n",
    "# Search file with levinstein distance\n",
    "\n",
    "dataset_files = []\n",
    "for root, dirs, files in os.walk(\"data\"):\n",
    "    for file in files:\n",
    "        if file.endswith(\".csv\"):\n",
    "            dataset_files.append(file)\n",
    "\n",
    "\n",
    "def calculate_levenshtein(str1, str2):\n",
    "    replacementCost = [[]]\n",
    "\n",
    "    for i in range(len(str1) + 1):\n",
    "        replacementCost.append([])\n",
    "        for j in range(len(str2) + 1):\n",
    "            if i == 0:\n",
    "                replacementCost[i].append(j)\n",
    "            elif j == 0:\n",
    "                replacementCost[i].append(i)\n",
    "            elif str1[i - 1] == str2[j - 1]:\n",
    "                replacementCost[i].append(replacementCost[i - 1][j - 1])\n",
    "            else:\n",
    "                replacementCost[i].append(1 + min(replacementCost[i - 1][j], replacementCost[i][j - 1],\n",
    "                                                  replacementCost[i - 1][j - 1]))\n",
    "\n",
    "    return replacementCost[len(str1)][len(str2)]\n",
    "\n",
    "\n",
    "# Find the closest file\n",
    "scores = []\n",
    "\n",
    "for file in dataset_files:\n",
    "    print(file)\n",
    "    scores.append(calculate_levenshtein(dataset_name, file.split(\"_data\")[0]))\n",
    "\n",
    "closest_file_name = dataset_files[scores.index(min(scores))]\n",
    "print(\"Closest file: \" + closest_file_name)\n",
    "\n",
    "# Load the dataset\n",
    "df = pd.read_csv(\"data/\" + closest_file_name)\n",
    "\n",
    "df = df.drop(columns=[\"imdb_id\", \"id\"])\n",
    "\n",
    "# print(df)\n",
    "df[\"score_avg\"] = (df[\"imdb_score\"] + df[\"tmdb_score\"]) / 2"
   ]
  },
  {
   "cell_type": "code",
   "execution_count": 89,
   "metadata": {},
   "outputs": [],
   "source": [
    "unique_genres = []\n",
    "\n",
    "for index, row in df.iterrows():\n",
    "    row[\"genres\"] = literal_eval(row[\"genres\"])\n",
    "    for genre in row[\"genres\"]:\n",
    "        if genre not in unique_genres:\n",
    "            unique_genres.append(genre)\n",
    "\n",
    "df[\"genres_index\"] = df[\"genres\"].apply(lambda x: [unique_genres.index(i) for i in literal_eval(x)])"
   ]
  },
  {
   "cell_type": "code",
   "execution_count": null,
   "metadata": {},
   "outputs": [],
   "source": [
    "unique_production_countries = []\n",
    "\n",
    "for index, row in df.iterrows():\n",
    "    row[\"production_countries\"] = literal_eval(row[\"production_countries\"])\n",
    "    for production_country in row[\"production_countries\"]:\n",
    "        if production_country not in unique_production_countries:\n",
    "            unique_production_countries.append(production_country)\n",
    "\n",
    "df[\"production_countries_index\"] = df[\"production_countries\"].apply(\n",
    "    lambda x: [unique_production_countries.index(i) for i in literal_eval(x)])\n"
   ]
  },
  {
   "cell_type": "code",
   "execution_count": 90,
   "metadata": {},
   "outputs": [],
   "source": [
    "unique_types = []\n",
    "\n",
    "for index, row in df.iterrows():\n",
    "    if row[\"type\"] not in unique_types:\n",
    "        unique_types.append(row[\"type\"])\n",
    "\n",
    "df[\"type_index\"] = df[\"type\"].apply(lambda x: unique_types.index(x))"
   ]
  },
  {
   "cell_type": "code",
   "execution_count": 91,
   "metadata": {},
   "outputs": [
    {
     "data": {
      "text/plain": [
       "0       0\n",
       "1       1\n",
       "2       2\n",
       "3       1\n",
       "4       1\n",
       "       ..\n",
       "5801    6\n",
       "5802    6\n",
       "5803    6\n",
       "5804    6\n",
       "5805    6\n",
       "Name: age_certification_index, Length: 5806, dtype: int64"
      ]
     },
     "execution_count": 91,
     "metadata": {},
     "output_type": "execute_result"
    }
   ],
   "source": [
    "unique_age_certifications = []\n",
    "\n",
    "for index, row in df.iterrows():\n",
    "    if row[\"age_certification\"] not in unique_age_certifications:\n",
    "        unique_age_certifications.append(row[\"age_certification\"])\n",
    "\n",
    "df[\"age_certification_index\"] = df[\"age_certification\"].apply(\n",
    "    lambda x: unique_age_certifications.index(x))\n",
    "df[\"age_certification_index\"]\n"
   ]
  },
  {
   "cell_type": "code",
   "execution_count": 92,
   "metadata": {},
   "outputs": [],
   "source": [
    "# Split in train and test set\n",
    "# X = df.drop(columns=['score_avg', 'title'])\n",
    "# y = df['score_avg']\n",
    "# X_train, X_test, y_train, y_test = train_test_split(X, y, test_size=0.2)\n",
    "\n",
    "# model = DecisionTreeClassifier()\n",
    "# model.fit(X_train, y_train)\n",
    "# predictions = model.predict(X_test)\n",
    "\n",
    "# score = accuracy_score(y_test, predictions)\n",
    "# score\n"
   ]
  }
 ],
 "metadata": {
  "interpreter": {
   "hash": "5acc04075bd761e5bbc17653101e3ed9dccbbab36114cbac934221cd59b84937"
  },
  "kernelspec": {
   "display_name": "Python 3.9.12 ('uk259')",
   "language": "python",
   "name": "python3"
  },
  "language_info": {
   "codemirror_mode": {
    "name": "ipython",
    "version": 3
   },
   "file_extension": ".py",
   "mimetype": "text/x-python",
   "name": "python",
   "nbconvert_exporter": "python",
   "pygments_lexer": "ipython3",
   "version": "3.9.12"
  },
  "orig_nbformat": 4
 },
 "nbformat": 4,
 "nbformat_minor": 2
}
