{
  "cells": [
    {
      "cell_type": "code",
      "execution_count": null,
      "metadata": {},
      "outputs": [],
      "source": [
        "import matplotlib.pyplot as plt\n",
        "import pandas as pd\n",
        "import os\n",
        "import seaborn as sns\n",
        "import numpy as np\n",
        "from sklearn.tree import DecisionTreeClassifier\n",
        "from sklearn.model_selection import train_test_split\n",
        "from sklearn.metrics import accuracy_score\n",
        "\n",
        "from ast import literal_eval\n",
        "import datetime\n",
        "import time  # for timing\n",
        "import joblib # for saving objects\n",
        "import random # for random number generation\n",
        "\n",
        "\n",
        "TESTING = False\n",
        "REGENERATE = False\n",
        "\n",
        "if TESTING:\n",
        "    dataset_name = 'netflix'\n",
        "else:\n",
        "    dataset_name = input(\"Enter dataset name: \")\n",
        "\n",
        "# Search file with levinstein distance\n",
        "\n",
        "dataset_files = []\n",
        "for root, dirs, files in os.walk(\"data\"):\n",
        "    for file in files:\n",
        "        if file.endswith(\".csv\"):\n",
        "            dataset_files.append(file)\n",
        "\n",
        "\n",
        "def calculate_levenshtein(str1, str2):\n",
        "    replacementCost = [[]]\n",
        "\n",
        "    for i in range(len(str1) + 1):\n",
        "        replacementCost.append([])\n",
        "        for j in range(len(str2) + 1):\n",
        "            if i == 0:\n",
        "                replacementCost[i].append(j)\n",
        "            elif j == 0:\n",
        "                replacementCost[i].append(i)\n",
        "            elif str1[i - 1] == str2[j - 1]:\n",
        "                replacementCost[i].append(replacementCost[i - 1][j - 1])\n",
        "            else:\n",
        "                replacementCost[i].append(1 + min(replacementCost[i - 1][j], replacementCost[i][j - 1],\n",
        "                                                  replacementCost[i - 1][j - 1]))\n",
        "\n",
        "    return replacementCost[len(str1)][len(str2)]\n",
        "\n",
        "\n",
        "# Find the closest file\n",
        "scores = []\n",
        "\n",
        "for file in dataset_files:\n",
        "    print(file)\n",
        "    scores.append(calculate_levenshtein(dataset_name, file.split(\"_data\")[0]))\n",
        "\n",
        "closest_file_name = dataset_files[scores.index(min(scores))]\n",
        "print(\"Closest file: \" + closest_file_name)\n",
        "\n",
        "# Load the dataset\n",
        "df = pd.read_csv(\"data/\" + closest_file_name)\n",
        "\n",
        "df = df.drop(columns=[\"imdb_id\"])\n",
        "\n",
        "# print(df)\n",
        "df[\"score_avg\"] = (df[\"imdb_score\"] + df[\"tmdb_score\"]) / 2"
      ]
    },
    {
      "cell_type": "code",
      "execution_count": null,
      "metadata": {},
      "outputs": [],
      "source": [
        "class Progressbar:\n",
        "\n",
        "    def __init__(self, maxValue, startTime=time.time()):\n",
        "        self.startTime = startTime\n",
        "        self.maxValue = maxValue\n",
        "\n",
        "    def update(self, index):\n",
        "        valueLength = len(str(self.maxValue))\n",
        "        indexString = str(index)\n",
        "        # while len(str(indexString)) < valueLength:\n",
        "        #     indexString = \" \" + indexString\n",
        "\n",
        "        indexString.rjust(valueLength - len(indexString))\n",
        "\n",
        "        print(\"\\rProgress: [{0:50s}] {1:.1f}%\".format('#' * int((index + 1) * 50 / self.maxValue), (index + 1) * 100 / self.maxValue)\n",
        "              + \"    \" + indexString + \"/\" + str(self.maxValue) + \"    \" +\n",
        "              \"Time left: {}\".format(str(datetime.timedelta(seconds=(self.maxValue - (index + 1)) * (time.time() - self.startTime) / (index + 1)))), end=\"\", flush=True)\n"
      ]
    },
    {
      "cell_type": "code",
      "execution_count": null,
      "metadata": {},
      "outputs": [],
      "source": [
        "unique_genres = []\n",
        "\n",
        "for index, row in df.iterrows():\n",
        "    row[\"genres\"] = literal_eval(row[\"genres\"])\n",
        "    for genre in row[\"genres\"]:\n",
        "        if genre not in unique_genres:\n",
        "            unique_genres.append(genre)\n",
        "\n",
        "df[\"genres_index\"] = df[\"genres\"].apply(lambda x: [unique_genres.index(i) for i in literal_eval(x)])\n",
        "\n",
        "print(unique_genres)\n"
      ]
    },
    {
      "cell_type": "code",
      "execution_count": null,
      "metadata": {},
      "outputs": [],
      "source": [
        "unique_production_countries = []\n",
        "\n",
        "for index, row in df.iterrows():\n",
        "    row[\"production_countries\"] = literal_eval(row[\"production_countries\"])\n",
        "    for production_country in row[\"production_countries\"]:\n",
        "        if production_country not in unique_production_countries:\n",
        "            unique_production_countries.append(production_country)\n",
        "\n",
        "df[\"production_countries_index\"] = df[\"production_countries\"].apply(\n",
        "    lambda x: [unique_production_countries.index(i) for i in literal_eval(x)])\n",
        "\n",
        "print(unique_production_countries)\n"
      ]
    },
    {
      "cell_type": "code",
      "execution_count": null,
      "metadata": {},
      "outputs": [],
      "source": [
        "unique_types = []\n",
        "\n",
        "for index, row in df.iterrows():\n",
        "    if row[\"type\"] not in unique_types:\n",
        "        unique_types.append(row[\"type\"])\n",
        "\n",
        "df[\"type_index\"] = df[\"type\"].apply(lambda x: unique_types.index(x))\n",
        "\n",
        "print(unique_types)\n"
      ]
    },
    {
      "cell_type": "code",
      "execution_count": null,
      "metadata": {},
      "outputs": [],
      "source": [
        "unique_age_certifications = []\n",
        "\n",
        "for index, row in df.iterrows():\n",
        "    if row[\"age_certification\"] not in unique_age_certifications:\n",
        "        unique_age_certifications.append(row[\"age_certification\"])\n",
        "\n",
        "df[\"age_certification_index\"] = df[\"age_certification\"].apply(\n",
        "    lambda x: unique_age_certifications.index(x))\n",
        "\n",
        "print(unique_age_certifications)"
      ]
    },
    {
      "cell_type": "code",
      "execution_count": null,
      "metadata": {},
      "outputs": [],
      "source": [
        "df_splitted = pd.DataFrame(columns=df.columns)\n",
        "df_splitted.drop(columns=[\"genres\", \"production_countries\", \"type\", \"age_certification\"], inplace=True)\n",
        "\n",
        "progressBar = Progressbar(len(df))\n",
        "\n",
        "save_name = \"saved/splitted_data_\" + \\\n",
        "    closest_file_name.split(\".\")[0].split(\"_\")[0] + \".df\"\n",
        "\n",
        "if REGENERATE or not os.path.exists(save_name):\n",
        "    for index, row in df.iterrows():\n",
        "\n",
        "        progressBar.update(index)\n",
        "\n",
        "        for genre_index in row[\"genres_index\"]:\n",
        "            row_copy = row.copy()\n",
        "            row_copy[\"genres_index\"] = genre_index\n",
        "\n",
        "            for production_country_index in row_copy[\"production_countries_index\"]:\n",
        "                row_copy2 = row_copy.copy()\n",
        "                row_copy2[\"production_countries_index\"] = production_country_index        \n",
        "\n",
        "                df_splitted.loc[len(df_splitted)] = row_copy2\n",
        "            \n",
        "    joblib.dump(df_splitted, save_name)\n",
        "else:\n",
        "    df_splitted = joblib.load(save_name)\n",
        "\n",
        "df_splitted"
      ]
    },
    {
      "cell_type": "code",
      "execution_count": null,
      "metadata": {},
      "outputs": [],
      "source": [
        "# display the top 3 movies with the highest Imdb_score\n",
        "df.sort_values(by=[\"imdb_score\"], ascending=False, inplace=True)\n",
        "\n",
        "# visualize the data\n",
        "df.head(3)"
      ]
    },
    {
      "cell_type": "markdown",
      "metadata": {},
      "source": [
        "## Scores by Type"
      ]
    },
    {
      "cell_type": "code",
      "execution_count": null,
      "metadata": {},
      "outputs": [],
      "source": [
        "sns.scatterplot(x=\"imdb_score\", y=\"tmdb_score\", data=df, hue=\"type_index\")\n",
        "\n",
        "for index, value in enumerate(unique_types):\n",
        "    print(f\"[{index}] => {value}\")"
      ]
    },
    {
      "cell_type": "markdown",
      "metadata": {},
      "source": [
        "## Prediction"
      ]
    },
    {
      "cell_type": "code",
      "execution_count": null,
      "metadata": {},
      "outputs": [],
      "source": [
        "df_splitted_noNull= df_splitted.dropna() \n",
        "\n",
        "# Split in train and test set\n",
        "X = df_splitted_noNull.drop(columns=['id', 'score_avg', 'title', 'description'])\n",
        "y = df_splitted_noNull['score_avg']\n",
        "y = y * 100 \n",
        "y = y.astype('int')\n",
        "X_train, X_test, y_train, y_test = train_test_split(X, y, test_size=0.2, shuffle=True)\n",
        "\n",
        "print(df_splitted_noNull[:1])\n",
        "\n",
        "# generate new movie example with data  to predict\n",
        "new_movie = X[:1].copy()\n",
        "\n",
        "# generate new dummy data\n",
        "new_movie[\"genres_index\"] = 8\n",
        "new_movie[\"production_countries_index\"] = 0\n",
        "new_movie[\"type_index\"] = 1\n",
        "new_movie[\"age_certification_index\"] = 2\n",
        "new_movie[\"release_year\"] = 2004\n",
        "new_movie[\"runtime\"] = 120\n",
        "new_movie[\"seasons\"] = 1\n",
        "\n",
        "model = DecisionTreeClassifier()\n",
        "model.fit(X_train, y_train)\n",
        "\n"
      ]
    },
    {
      "cell_type": "markdown",
      "metadata": {},
      "source": [
        "### Accuracy"
      ]
    },
    {
      "cell_type": "code",
      "execution_count": null,
      "metadata": {},
      "outputs": [],
      "source": [
        "print(new_movie)\n",
        "\n",
        "predictions = model.predict(new_movie)\n",
        "print(predictions / 100)\n",
        "\n",
        "test_predictions = model.predict(X_test)\n",
        "\n",
        "score = accuracy_score(y_test, test_predictions)\n",
        "print(score)\n"
      ]
    },
    {
      "cell_type": "code",
      "execution_count": null,
      "metadata": {},
      "outputs": [],
      "source": [
        "# visualize genres and score_avg using sns boxplot\n",
        "sns.boxplot(x=\"genres_index\", y=\"score_avg\", data=df_splitted_noNull)\n",
        "plt.gcf().set_size_inches(30, 10)\n",
        "plt.show()\n",
        "\n",
        "for i in range(0, len(unique_genres)):\n",
        "    print(i.__str__() + \" -> \" + unique_genres[i])\n"
      ]
    },
    {
      "cell_type": "code",
      "execution_count": null,
      "metadata": {},
      "outputs": [],
      "source": [
        "# visualize production_countries and score_avg using sns boxplot with production_countries_index limit 5\n",
        "\n",
        "sns.boxplot(x=\"production_countries_index\", y=\"score_avg\",\n",
        "            data=df_splitted_noNull, palette=\"Set1\")\n",
        "\n",
        "# limit x\n",
        "# plt.xlim(-1, 6)\n",
        "\n",
        "# changed plot size\n",
        "plt.gcf().set_size_inches(30, 10)\n",
        "plt.show()\n",
        "\n",
        "\n",
        "for i in range(0, len(unique_production_countries)):\n",
        "    print(i.__str__() + \" -> \" + unique_production_countries[i])\n"
      ]
    }
  ],
  "metadata": {
    "interpreter": {
      "hash": "b07399c1214139f4e29b995fc9456ffec3c6726a6e7f1ca196954ea28f63d1dc"
    },
    "kernelspec": {
      "display_name": "uk259_kernel",
      "language": "python",
      "name": "uk259_kernel"
    },
    "language_info": {
      "codemirror_mode": {
        "name": "ipython",
        "version": 3
      },
      "file_extension": ".py",
      "mimetype": "text/x-python",
      "name": "python",
      "nbconvert_exporter": "python",
      "pygments_lexer": "ipython3",
      "version": "3.9.12"
    },
    "orig_nbformat": 4
  },
  "nbformat": 4,
  "nbformat_minor": 2
}
