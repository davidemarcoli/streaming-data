{
 "cells": [
  {
   "cell_type": "code",
   "execution_count": 361,
   "metadata": {},
   "outputs": [
    {
     "name": "stdout",
     "output_type": "stream",
     "text": [
      "hulu-tv_data.csv\n",
      "disney-+_data.csv\n",
      "amazon-prime_data.csv\n",
      "rakuten-viki-tv_data.csv\n",
      "netflix_data.csv\n",
      "paramount-tv_data.csv\n",
      "dark-matter-tv_data.csv\n",
      "crunchyroll_data.csv\n",
      "hbo-max_data.csv\n",
      "Closest file: netflix_data.csv\n"
     ]
    }
   ],
   "source": [
    "import pandas as pd\n",
    "import os\n",
    "import seaborn as sns\n",
    "import numpy as np\n",
    "from sklearn.tree import DecisionTreeClassifier\n",
    "from sklearn.model_selection import train_test_split\n",
    "from sklearn.metrics import accuracy_score\n",
    "\n",
    "from ast import literal_eval\n",
    "import datetime\n",
    "import time  # for timing\n",
    "import joblib # for saving objects\n",
    "\n",
    "\n",
    "TESTING = True\n",
    "REGENERATE = True\n",
    "\n",
    "if TESTING:\n",
    "    dataset_name = 'netflix'\n",
    "else:\n",
    "    dataset_name = input(\"Enter dataset name: \")\n",
    "\n",
    "# Search file with levinstein distance\n",
    "\n",
    "dataset_files = []\n",
    "for root, dirs, files in os.walk(\"data\"):\n",
    "    for file in files:\n",
    "        if file.endswith(\".csv\"):\n",
    "            dataset_files.append(file)\n",
    "\n",
    "\n",
    "def calculate_levenshtein(str1, str2):\n",
    "    replacementCost = [[]]\n",
    "\n",
    "    for i in range(len(str1) + 1):\n",
    "        replacementCost.append([])\n",
    "        for j in range(len(str2) + 1):\n",
    "            if i == 0:\n",
    "                replacementCost[i].append(j)\n",
    "            elif j == 0:\n",
    "                replacementCost[i].append(i)\n",
    "            elif str1[i - 1] == str2[j - 1]:\n",
    "                replacementCost[i].append(replacementCost[i - 1][j - 1])\n",
    "            else:\n",
    "                replacementCost[i].append(1 + min(replacementCost[i - 1][j], replacementCost[i][j - 1],\n",
    "                                                  replacementCost[i - 1][j - 1]))\n",
    "\n",
    "    return replacementCost[len(str1)][len(str2)]\n",
    "\n",
    "\n",
    "# Find the closest file\n",
    "scores = []\n",
    "\n",
    "for file in dataset_files:\n",
    "    print(file)\n",
    "    scores.append(calculate_levenshtein(dataset_name, file.split(\"_data\")[0]))\n",
    "\n",
    "closest_file_name = dataset_files[scores.index(min(scores))]\n",
    "print(\"Closest file: \" + closest_file_name)\n",
    "\n",
    "# Load the dataset\n",
    "df = pd.read_csv(\"data/\" + closest_file_name)\n",
    "\n",
    "df = df.drop(columns=[\"imdb_id\"])\n",
    "\n",
    "# print(df)\n",
    "df[\"score_avg\"] = (df[\"imdb_score\"] + df[\"tmdb_score\"]) / 2"
   ]
  },
  {
   "cell_type": "code",
   "execution_count": 362,
   "metadata": {},
   "outputs": [],
   "source": [
    "class Progressbar:\n",
    "\n",
    "    def __init__(self, maxValue, startTime=time.time()):\n",
    "        self.startTime = startTime\n",
    "        self.maxValue = maxValue\n",
    "\n",
    "    def update(self, index):\n",
    "        print(\"\\rProgress: [{0:50s}] {1:.1f}%\".format('#' * int((index + 1) * 50 / self.maxValue), (index + 1) * 100 / self.maxValue)\n",
    "            + \"   \" + \"Time left: {}\".format(\n",
    "            str(datetime.timedelta(seconds=(self.maxValue - (index + 1)) * (time.time() - self.startTime) / (index + 1)))), end=\"\", flush=True)\n"
   ]
  },
  {
   "cell_type": "code",
   "execution_count": 363,
   "metadata": {},
   "outputs": [],
   "source": [
    "unique_genres = []\n",
    "\n",
    "for index, row in df.iterrows():\n",
    "    row[\"genres\"] = literal_eval(row[\"genres\"])\n",
    "    for genre in row[\"genres\"]:\n",
    "        if genre not in unique_genres:\n",
    "            unique_genres.append(genre)\n",
    "\n",
    "df[\"genres_index\"] = df[\"genres\"].apply(lambda x: [unique_genres.index(i) for i in literal_eval(x)])"
   ]
  },
  {
   "cell_type": "code",
   "execution_count": 364,
   "metadata": {},
   "outputs": [],
   "source": [
    "unique_production_countries = []\n",
    "\n",
    "for index, row in df.iterrows():\n",
    "    row[\"production_countries\"] = literal_eval(row[\"production_countries\"])\n",
    "    for production_country in row[\"production_countries\"]:\n",
    "        if production_country not in unique_production_countries:\n",
    "            unique_production_countries.append(production_country)\n",
    "\n",
    "df[\"production_countries_index\"] = df[\"production_countries\"].apply(\n",
    "    lambda x: [unique_production_countries.index(i) for i in literal_eval(x)])\n"
   ]
  },
  {
   "cell_type": "code",
   "execution_count": 365,
   "metadata": {},
   "outputs": [],
   "source": [
    "unique_types = []\n",
    "\n",
    "for index, row in df.iterrows():\n",
    "    if row[\"type\"] not in unique_types:\n",
    "        unique_types.append(row[\"type\"])\n",
    "\n",
    "df[\"type_index\"] = df[\"type\"].apply(lambda x: unique_types.index(x))"
   ]
  },
  {
   "cell_type": "code",
   "execution_count": 366,
   "metadata": {},
   "outputs": [],
   "source": [
    "unique_age_certifications = []\n",
    "\n",
    "for index, row in df.iterrows():\n",
    "    if row[\"age_certification\"] not in unique_age_certifications:\n",
    "        unique_age_certifications.append(row[\"age_certification\"])\n",
    "\n",
    "df[\"age_certification_index\"] = df[\"age_certification\"].apply(\n",
    "    lambda x: unique_age_certifications.index(x))"
   ]
  },
  {
   "cell_type": "code",
   "execution_count": 367,
   "metadata": {},
   "outputs": [
    {
     "name": "stdout",
     "output_type": "stream",
     "text": [
      "Progress: [#####                                             ] 10.0%   Time left: 0:33:21.251147"
     ]
    }
   ],
   "source": [
    "df_splitted = pd.DataFrame()\n",
    "\n",
    "progressBar = Progressbar(len(df))\n",
    "\n",
    "if REGENERATE or not os.path.exists(\"data/df_splitted.csv\"):\n",
    "    for index, row in df.iterrows():\n",
    "\n",
    "        progressBar.update(index)\n",
    "\n",
    "        for genre_index in row[\"genres_index\"]:\n",
    "            row_copy = row.copy()\n",
    "            row_copy[\"genres_index\"] = genre_index\n",
    "\n",
    "            for production_country_index in row_copy[\"production_countries_index\"]:\n",
    "                row_copy2 = row_copy.copy()\n",
    "                row_copy2[\"production_countries_index\"] = production_country_index        \n",
    "\n",
    "                # df_splitted = df_splitted.append(pd.DataFrame(data=row_copy2))\n",
    "                df_splitted = pd.concat([df_splitted, pd.DataFrame(data=row_copy2)])\n",
    "            \n",
    "    joblib.dump(df_splitted, \"saved/splitted_data.pkl\")\n",
    "else:\n",
    "    df_splitted = joblib.load(\"saved/splitted_data.pkl\")\n",
    "\n",
    "df_splitted"
   ]
  },
  {
   "cell_type": "code",
   "execution_count": null,
   "metadata": {},
   "outputs": [],
   "source": [
    "joblib.dump(df_splitted, \"saved/splitted_data.pkl\")"
   ]
  },
  {
   "cell_type": "code",
   "execution_count": null,
   "metadata": {},
   "outputs": [],
   "source": [
    "# Split in train and test set\n",
    "X = df.drop(columns=['id', 'score_avg', 'title', 'description', 'genres', 'production_countries', 'type', 'age_certification'])\n",
    "y = df['score_avg']\n",
    "X_train, X_test, y_train, y_test = train_test_split(X, y, test_size=0.2)\n",
    "\n",
    "model = DecisionTreeClassifier()\n",
    "model.fit(X_train, y_train)\n",
    "predictions = model.predict(X_test)\n",
    "\n",
    "score = accuracy_score(y_test, predictions)\n",
    "score\n"
   ]
  }
 ],
 "metadata": {
  "interpreter": {
   "hash": "5acc04075bd761e5bbc17653101e3ed9dccbbab36114cbac934221cd59b84937"
  },
  "kernelspec": {
   "display_name": "Python 3.9.12 ('uk259')",
   "language": "python",
   "name": "python3"
  },
  "language_info": {
   "codemirror_mode": {
    "name": "ipython",
    "version": 3
   },
   "file_extension": ".py",
   "mimetype": "text/x-python",
   "name": "python",
   "nbconvert_exporter": "python",
   "pygments_lexer": "ipython3",
   "version": "3.9.12"
  },
  "orig_nbformat": 4
 },
 "nbformat": 4,
 "nbformat_minor": 2
}
